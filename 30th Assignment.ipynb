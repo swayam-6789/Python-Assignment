{
 "cells": [
  {
   "cell_type": "markdown",
   "id": "306bbe5a-3094-4c09-b07e-c08fbe6a549b",
   "metadata": {},
   "source": [
    "Question-1"
   ]
  },
  {
   "cell_type": "code",
   "execution_count": null,
   "id": "4f3bccd4-553a-4b4a-a509-127fba895aef",
   "metadata": {},
   "outputs": [],
   "source": [
    "marks=int(input(\"Enter the marks:\"))\n",
    "if marks>90:\n",
    "    print(\"Grade : A\")\n",
    "elif marks>80 and marks<=90:\n",
    "        print(\"Grade : B\")\n",
    "elif marks>=60 and marks<=80:\n",
    "            print(\"Grade : C\")\n",
    "else:\n",
    "    print(\"Grade : D\")"
   ]
  },
  {
   "cell_type": "markdown",
   "id": "daa9fa79-6e27-40a8-9911-cdb192b31166",
   "metadata": {},
   "source": [
    "Question-2"
   ]
  },
  {
   "cell_type": "code",
   "execution_count": null,
   "id": "3593c9e5-69c8-42d1-b577-407ab09a0998",
   "metadata": {},
   "outputs": [],
   "source": [
    "price=float(input(\"Enter the price\"))\n",
    "if price>100000:\n",
    "    print(\"15%\")\n",
    "elif price>50000 and price<=100000:\n",
    "    print(\"10%\")\n",
    "else:\n",
    "    print(\"5%\")"
   ]
  },
  {
   "cell_type": "markdown",
   "id": "7c9278be-76e3-4347-9343-630a9f7d1961",
   "metadata": {},
   "source": [
    "Question-3"
   ]
  },
  {
   "cell_type": "code",
   "execution_count": 2,
   "id": "bc709ff7-f9b6-477b-b716-65050eace4f3",
   "metadata": {},
   "outputs": [
    {
     "name": "stdin",
     "output_type": "stream",
     "text": [
      "Enter the city Delhi\n"
     ]
    },
    {
     "name": "stdout",
     "output_type": "stream",
     "text": [
      "Red Fort\n"
     ]
    }
   ],
   "source": [
    "city=str(input(\"Enter the city\"))\n",
    "if city==\"Delhi\":\n",
    "    print(\"Red Fort\")\n",
    "elif city==\"Agra\":\n",
    "    print(\"Tajmahal\")\n",
    "elif city==\"Jaipur\":\n",
    "    print(\"Jal mahal\")\n",
    "else:\n",
    "    print()\n"
   ]
  },
  {
   "cell_type": "markdown",
   "id": "03fcecda-c23c-4947-9fb9-d2a3d16127e7",
   "metadata": {},
   "source": [
    "Question-4"
   ]
  },
  {
   "cell_type": "code",
   "execution_count": null,
   "id": "77871336-3be9-4a46-a859-f975a3855a20",
   "metadata": {},
   "outputs": [],
   "source": [
    "n=int(input(\"Enter the number\"))\n",
    "count=0\n",
    "while n>=10:\n",
    "    n=n/3\n",
    "    count=count+1\n",
    "print(count)\n",
    "    "
   ]
  },
  {
   "cell_type": "markdown",
   "id": "9e8d6985-9c1a-4db4-95ed-297c0b7344b0",
   "metadata": {},
   "source": [
    "Question-5"
   ]
  },
  {
   "cell_type": "markdown",
   "id": "f9b1de1d-a42e-4d05-af95-17f178265ed7",
   "metadata": {},
   "source": [
    "With the while loop we can execute a set of statements as long as a condition is true.\n",
    "The while loop requires relevant variables to be ready."
   ]
  },
  {
   "cell_type": "code",
   "execution_count": 3,
   "id": "3af45859-cd3e-47a9-8a5b-f09dcee12b5f",
   "metadata": {},
   "outputs": [
    {
     "name": "stdout",
     "output_type": "stream",
     "text": [
      "1\n",
      "2\n",
      "3\n",
      "4\n",
      "5\n"
     ]
    }
   ],
   "source": [
    "i = 1\n",
    "while i < 6:\n",
    "    print(i)\n",
    "    i += 1\n"
   ]
  },
  {
   "cell_type": "markdown",
   "id": "921c3e23-5bce-4079-9101-fb2fc0b8492b",
   "metadata": {},
   "source": [
    "Question-6\n"
   ]
  },
  {
   "cell_type": "code",
   "execution_count": 9,
   "id": "c3ba0f0e-7511-450c-801c-08cd9aa2587e",
   "metadata": {},
   "outputs": [
    {
     "name": "stdin",
     "output_type": "stream",
     "text": [
      "Enter the number of rows:  6\n"
     ]
    },
    {
     "name": "stdout",
     "output_type": "stream",
     "text": [
      "     1\n",
      "    121\n",
      "   12321\n",
      "  1234321\n",
      " 123454321\n",
      "12345654321\n"
     ]
    }
   ],
   "source": [
    "# 1 Number pattern\n",
    "\n",
    "num = int(input(\"Enter the number of rows: \"))\n",
    "\n",
    "current_row = 1\n",
    "\n",
    "while current_row <= num:\n",
    "    # print the spaces for the current row\n",
    "    print(\" \" * (num - current_row), end=\"\")\n",
    "    \n",
    "    # print the numbers for the current row\n",
    "    current_num = 1\n",
    "    while current_num <= current_row:\n",
    "        print(current_num, end=\"\")\n",
    "        current_num += 1\n",
    "        \n",
    "    # print the numbers in reverse order for the current row\n",
    "    current_num -= 2\n",
    "    while current_num >= 1:\n",
    "        print(current_num, end=\"\")\n",
    "        current_num -= 1\n",
    "        \n",
    "    # move to the next row\n",
    "    print()\n",
    "    current_row += 1\n"
   ]
  },
  {
   "cell_type": "code",
   "execution_count": 10,
   "id": "8f7464f3-c42b-4825-b8d6-164990e5af55",
   "metadata": {},
   "outputs": [
    {
     "name": "stdin",
     "output_type": "stream",
     "text": [
      "Enter the number of rows 6\n"
     ]
    },
    {
     "name": "stdout",
     "output_type": "stream",
     "text": [
      "* \n",
      "* * \n",
      "* * * \n",
      "* * * * \n",
      "* * * * * \n",
      "* * * * * * \n"
     ]
    }
   ],
   "source": [
    "# 2\n",
    "n=int(input(\"Enter the number of rows\"))\n",
    "i=1\n",
    "while i<=n:\n",
    "    j=1\n",
    "    while j<=i:\n",
    "        print(\"*\",end=\" \")\n",
    "        j=j+1\n",
    "    print('')\n",
    "    i=i+1\n",
    "      "
   ]
  },
  {
   "cell_type": "code",
   "execution_count": 11,
   "id": "69a79696-abb4-45eb-857b-82f439d108d4",
   "metadata": {},
   "outputs": [
    {
     "name": "stdin",
     "output_type": "stream",
     "text": [
      "Enter number of rows :  5\n"
     ]
    },
    {
     "name": "stdout",
     "output_type": "stream",
     "text": [
      "* * * * * \n",
      "* * * * \n",
      "* * * \n",
      "* * \n",
      "* \n"
     ]
    }
   ],
   "source": [
    "# 3\n",
    "n = int(input('Enter number of rows : '))\n",
    " \n",
    "i = 1\n",
    "while i <= n :\n",
    "    j = n\n",
    "    while j >= i:\n",
    "        print(\"*\", end = \" \")\n",
    "        j -= 1\n",
    "    print()\n",
    "    i += 1"
   ]
  },
  {
   "cell_type": "markdown",
   "id": "d5458932-5875-4690-b02c-850ac01dd89e",
   "metadata": {},
   "source": [
    "Question-7"
   ]
  },
  {
   "cell_type": "code",
   "execution_count": 12,
   "id": "057ba091-ec76-44f9-862b-1def81ebbb2a",
   "metadata": {},
   "outputs": [
    {
     "name": "stdout",
     "output_type": "stream",
     "text": [
      "10\n",
      "9\n",
      "8\n",
      "7\n",
      "6\n",
      "5\n",
      "4\n",
      "3\n",
      "2\n",
      "1\n"
     ]
    }
   ],
   "source": [
    "i=10\n",
    "while i>=1:\n",
    "    print(i)\n",
    "    i=i-1"
   ]
  },
  {
   "cell_type": "markdown",
   "id": "451b13e3-31ad-4d8d-aa10-5a30eb753919",
   "metadata": {},
   "source": [
    "Question-8"
   ]
  },
  {
   "cell_type": "code",
   "execution_count": null,
   "id": "269c6099-cc2e-4a45-81f8-d0a19368ee68",
   "metadata": {},
   "outputs": [],
   "source": [
    "i=10\n",
    "while i>=1:\n",
    "    print(i)\n",
    "    i=i-1"
   ]
  }
 ],
 "metadata": {
  "kernelspec": {
   "display_name": "Python 3 (ipykernel)",
   "language": "python",
   "name": "python3"
  },
  "language_info": {
   "codemirror_mode": {
    "name": "ipython",
    "version": 3
   },
   "file_extension": ".py",
   "mimetype": "text/x-python",
   "name": "python",
   "nbconvert_exporter": "python",
   "pygments_lexer": "ipython3",
   "version": "3.10.6"
  }
 },
 "nbformat": 4,
 "nbformat_minor": 5
}
