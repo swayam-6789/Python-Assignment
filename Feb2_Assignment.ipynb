{
 "cells": [
  {
   "cell_type": "markdown",
   "id": "47524b2a-5843-45dc-a80e-61ac78f43cd1",
   "metadata": {},
   "source": [
    " Question:1"
   ]
  },
  {
   "cell_type": "markdown",
   "id": "430fa0a0-78ac-442f-a4a6-25d639f6e71c",
   "metadata": {},
   "source": [
    "Use a for loop to iterate over an array.\n",
    "Use a for loop when you know the loop should execute n times.\n",
    "\n",
    "Use a while loop for reading a file into a variable.\n",
    "Use a while loop when asking for user input.\n",
    "Use a while loop when the increment value is nonstandard.\n"
   ]
  },
  {
   "cell_type": "markdown",
   "id": "ad25d023-5c92-436b-9cc6-10dbae98859d",
   "metadata": {},
   "source": [
    "Question:2"
   ]
  },
  {
   "cell_type": "code",
   "execution_count": 4,
   "id": "1aba76e4-c1f1-4b95-a2d2-fc12a7cad140",
   "metadata": {},
   "outputs": [
    {
     "name": "stdout",
     "output_type": "stream",
     "text": [
      "55\n",
      "3628800\n"
     ]
    }
   ],
   "source": [
    "#for loop\n",
    "#sum\n",
    "sum=0\n",
    "for i in range(1,11):\n",
    "    sum=sum+i\n",
    "print(sum)\n",
    "\n",
    "#product\n",
    "product=1\n",
    "for j in range(1,11):\n",
    "    product=product*j\n",
    "print(product)"
   ]
  },
  {
   "cell_type": "code",
   "execution_count": 7,
   "id": "3cf2a016-7beb-4343-9f1d-a853fd2bda99",
   "metadata": {},
   "outputs": [
    {
     "name": "stdout",
     "output_type": "stream",
     "text": [
      "55\n",
      "3628800\n"
     ]
    }
   ],
   "source": [
    "#While loop\n",
    "#sum\n",
    "sum=0\n",
    "counter=1\n",
    "while(counter<=10):\n",
    "    sum=sum+counter\n",
    "    counter=counter+1\n",
    "print(sum)\n",
    "#product\n",
    "product=1\n",
    "counter=1\n",
    "while(counter<=10):\n",
    "    product=product*counter\n",
    "    counter=counter+1\n",
    "print(product)"
   ]
  },
  {
   "cell_type": "markdown",
   "id": "67fd17f1-3136-41cb-b88b-6aaa20de485c",
   "metadata": {},
   "source": [
    "QUESTION 3"
   ]
  },
  {
   "cell_type": "code",
   "execution_count": 3,
   "id": "5708f6d9-1979-46e5-b900-79a15a5517bb",
   "metadata": {},
   "outputs": [
    {
     "name": "stdin",
     "output_type": "stream",
     "text": [
      "Enter the units used in the month:  310\n"
     ]
    },
    {
     "name": "stdout",
     "output_type": "stream",
     "text": [
      "Charges is : 2250.0\n"
     ]
    }
   ],
   "source": [
    "units=float(input(\"Enter the units used in the month: \"))\n",
    "if units<=100:\n",
    "    charges=units*4.5\n",
    "elif units<=200:\n",
    "    charges=100*4.5+(units-100)*6\n",
    "elif units<=300:\n",
    "    charges=100*4.5+100*6+(units-200)*10\n",
    "else:\n",
    "    charges=100*4.5+100*6+100*10+(units-300)*20\n",
    "print (\"Charges is :\",charges)"
   ]
  },
  {
   "cell_type": "markdown",
   "id": "65c89b96-00d8-4e56-91d6-df46d3bb0c3b",
   "metadata": {},
   "source": [
    "QUESTION-4"
   ]
  },
  {
   "cell_type": "code",
   "execution_count": 6,
   "id": "3e3adbfa-d7bf-4294-8c8c-4ea7268a9996",
   "metadata": {},
   "outputs": [
    {
     "name": "stdout",
     "output_type": "stream",
     "text": [
      "[2, 4, 6, 8, 10, 12, 14, 16, 18, 20, 22, 24, 26, 28, 30, 32, 34, 36, 38, 40, 42, 44, 46, 48, 50, 52, 54, 56, 58, 60, 62, 64, 66, 68, 70, 72, 74, 76, 78, 80, 82, 84, 86, 88, 90, 92, 94, 96, 98, 100]\n"
     ]
    }
   ],
   "source": [
    "# FORLOOP\n",
    "cube_list=[]\n",
    "for i in range(1,101):\n",
    "    cube=i**3\n",
    "    if cube%4==0 & cube%5==0:\n",
    "        cube_list.append(i)\n",
    "    i=i+1\n",
    "print(cube_list)"
   ]
  },
  {
   "cell_type": "code",
   "execution_count": 9,
   "id": "dce6abcf-bc45-4e38-8e69-7cf34bf838c0",
   "metadata": {},
   "outputs": [
    {
     "name": "stdout",
     "output_type": "stream",
     "text": [
      "[2, 4, 6, 8, 10, 12, 14, 16, 18, 20, 22, 24, 26, 28, 30, 32, 34, 36, 38, 40, 42, 44, 46, 48, 50, 52, 54, 56, 58, 60, 62, 64, 66, 68, 70, 72, 74, 76, 78, 80, 82, 84, 86, 88, 90, 92, 94, 96, 98, 100]\n"
     ]
    }
   ],
   "source": [
    "# WHILE LOOP\n",
    "cubelist=[]\n",
    "cube=0\n",
    "counter=1\n",
    "while(counter<=100):\n",
    "    cube=counter**3\n",
    "    if cube%4==0 & cube%5==0:\n",
    "        cubelist.append(counter)\n",
    "    counter=counter+1\n",
    "print(cubelist)"
   ]
  },
  {
   "cell_type": "markdown",
   "id": "e733e2df-7714-4886-af97-a64b80f9d54a",
   "metadata": {},
   "source": [
    "QUESTION:5"
   ]
  },
  {
   "cell_type": "code",
   "execution_count": 10,
   "id": "fb858a88-b593-4eb1-a329-5ec160cb5242",
   "metadata": {},
   "outputs": [
    {
     "name": "stdout",
     "output_type": "stream",
     "text": [
      "No of vowels in the string :  12\n"
     ]
    }
   ],
   "source": [
    "string=\"I want to become a data scientist\"\n",
    "vowels='aeiouAEIOU'\n",
    "count=0\n",
    "for char in string:\n",
    "    if char in vowels:\n",
    "        count=count+1\n",
    "print(\"No of vowels in the string : \",count)"
   ]
  },
  {
   "cell_type": "code",
   "execution_count": null,
   "id": "4c7ec30d-133b-4030-8aa5-dddca04e61e8",
   "metadata": {},
   "outputs": [],
   "source": []
  }
 ],
 "metadata": {
  "kernelspec": {
   "display_name": "Python 3 (ipykernel)",
   "language": "python",
   "name": "python3"
  },
  "language_info": {
   "codemirror_mode": {
    "name": "ipython",
    "version": 3
   },
   "file_extension": ".py",
   "mimetype": "text/x-python",
   "name": "python",
   "nbconvert_exporter": "python",
   "pygments_lexer": "ipython3",
   "version": "3.10.6"
  }
 },
 "nbformat": 4,
 "nbformat_minor": 5
}
